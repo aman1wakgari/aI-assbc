{
 "cells": [
  {
   "cell_type": "markdown",
   "id": "8c070c4b-add9-4c94-8ac6-42e994ecd09b",
   "metadata": {},
   "source": [
    "## Title: HIV/AIDS Prediction using Machine Learning"
   ]
  },
  {
   "cell_type": "markdown",
   "id": "8cb82333-dac4-47b7-82fb-88c47a948036",
   "metadata": {},
   "source": [
    "#Definition of HIV/AIDS:\n",
    "HIV (Human Immunodeficiency Virus) is a virus that attacks the immune system and can lead to AIDS (Acquired Immunodeficiency Syndrome). AIDS is a condition characterized by a severely weakened immune system, making individuals more susceptible to infections and certain cancers."
   ]
  },
  {
   "cell_type": "code",
   "execution_count": 1,
   "id": "a8b568dc",
   "metadata": {
    "_cell_guid": "b1076dfc-b9ad-4769-8c92-a6c4dae69d19",
    "_uuid": "8f2839f25d086af736a60e9eeb907d3b93b6e0e5",
    "papermill": {
     "duration": 1.53776,
     "end_time": "2023-10-28T18:42:49.854582",
     "exception": false,
     "start_time": "2023-10-28T18:42:48.316822",
     "status": "completed"
    },
    "tags": []
   },
   "outputs": [],
   "source": [
    "\n",
    "\n",
    "import numpy as np # linear algebra\n",
    "import pandas as pd # data processing, CSV file I/O (e.g. pd.read_csv)\n",
    "import matplotlib.pyplot as plt\n",
    "import seaborn as sns\n"
   ]
  },
  {
   "cell_type": "markdown",
   "id": "90412a9a-04b5-4133-9957-8e87841447e6",
   "metadata": {},
   "source": [
    "## Problem Definition:\n",
    "The project aims to predict the likelihood of an individual contracting HIV/AIDS using machine learning techniques. This involves classification to categorize individuals into HIV-positive or HIV-negative groups, regression to predict the progression of the disease, and clustering to identify patterns in the data.\n"
   ]
  },
  {
   "cell_type": "code",
   "execution_count": 48,
   "id": "665af738-66fd-4ceb-92ae-e4064486b64c",
   "metadata": {},
   "outputs": [],
   "source": [
    "import os\n",
    "for dirname, _, filenames in os.walk('/kaggle/input'):\n",
    "    for filename in filenames:\n",
    "        print(os.path.join(dirname, filename))\n"
   ]
  },
  {
   "cell_type": "markdown",
   "id": "997d2399-2b76-43e1-883c-9d2ec14c73aa",
   "metadata": {},
   "source": [
    "## Data:\n",
    "- Sources: The data will be sourced from a publicly available dataset containing information such as age, gender, sexual behavior, drug use, medical history, and other relevant parameters.\n",
    "- Definition of Parameters: Parameters may include age, gender, sexual orientation, number of sexual partners, condom usage, drug use history, CD4 cell count, viral load, etc.\n",
    "- Talking to Experts: Consulting healthcare professionals and data scientists to understand the significance of each parameter in predicting HIV/AIDS risk"
   ]
  },
  {
   "cell_type": "code",
   "execution_count": 3,
   "id": "ed1b8e92",
   "metadata": {
    "papermill": {
     "duration": 0.043485,
     "end_time": "2023-10-28T18:42:49.913033",
     "exception": false,
     "start_time": "2023-10-28T18:42:49.869548",
     "status": "completed"
    },
    "tags": []
   },
   "outputs": [],
   "source": [
    "df = pd.read_csv(\"HIV_dataset (1).csv\")"
   ]
  },
  {
   "cell_type": "code",
   "execution_count": 4,
   "id": "604b54a1",
   "metadata": {
    "papermill": {
     "duration": 0.047367,
     "end_time": "2023-10-28T18:42:49.975723",
     "exception": false,
     "start_time": "2023-10-28T18:42:49.928356",
     "status": "completed"
    },
    "tags": []
   },
   "outputs": [
    {
     "data": {
      "text/html": [
       "<div>\n",
       "<style scoped>\n",
       "    .dataframe tbody tr th:only-of-type {\n",
       "        vertical-align: middle;\n",
       "    }\n",
       "\n",
       "    .dataframe tbody tr th {\n",
       "        vertical-align: top;\n",
       "    }\n",
       "\n",
       "    .dataframe thead th {\n",
       "        text-align: right;\n",
       "    }\n",
       "</style>\n",
       "<table border=\"1\" class=\"dataframe\">\n",
       "  <thead>\n",
       "    <tr style=\"text-align: right;\">\n",
       "      <th></th>\n",
       "      <th>Age</th>\n",
       "      <th>Marital Staus</th>\n",
       "      <th>STD</th>\n",
       "      <th>Educational Background</th>\n",
       "      <th>HIV TEST IN PAST YEAR</th>\n",
       "      <th>AIDS education</th>\n",
       "      <th>Places of seeking sex partners</th>\n",
       "      <th>SEXUAL ORIENTATION</th>\n",
       "      <th>Drug- taking</th>\n",
       "      <th>Result</th>\n",
       "    </tr>\n",
       "  </thead>\n",
       "  <tbody>\n",
       "    <tr>\n",
       "      <th>0</th>\n",
       "      <td>22</td>\n",
       "      <td>UNMARRIED</td>\n",
       "      <td>NO</td>\n",
       "      <td>College Degree</td>\n",
       "      <td>YES</td>\n",
       "      <td>NO</td>\n",
       "      <td>Bar</td>\n",
       "      <td>Heterosexual</td>\n",
       "      <td>YES</td>\n",
       "      <td>POSITIVE</td>\n",
       "    </tr>\n",
       "    <tr>\n",
       "      <th>1</th>\n",
       "      <td>20</td>\n",
       "      <td>UNMARRIED</td>\n",
       "      <td>NO</td>\n",
       "      <td>College Degree</td>\n",
       "      <td>NO</td>\n",
       "      <td>YES</td>\n",
       "      <td>NaN</td>\n",
       "      <td>Heterosexual</td>\n",
       "      <td>NO</td>\n",
       "      <td>NEGATIVE</td>\n",
       "    </tr>\n",
       "    <tr>\n",
       "      <th>2</th>\n",
       "      <td>23</td>\n",
       "      <td>Married</td>\n",
       "      <td>YES</td>\n",
       "      <td>College Degree</td>\n",
       "      <td>NO</td>\n",
       "      <td>YES</td>\n",
       "      <td>NaN</td>\n",
       "      <td>Bisexual</td>\n",
       "      <td>NO</td>\n",
       "      <td>NEGATIVE</td>\n",
       "    </tr>\n",
       "    <tr>\n",
       "      <th>3</th>\n",
       "      <td>24</td>\n",
       "      <td>Married</td>\n",
       "      <td>NO</td>\n",
       "      <td>College Degree</td>\n",
       "      <td>YES</td>\n",
       "      <td>YES</td>\n",
       "      <td>Park</td>\n",
       "      <td>Heterosexual</td>\n",
       "      <td>YES</td>\n",
       "      <td>POSITIVE</td>\n",
       "    </tr>\n",
       "    <tr>\n",
       "      <th>4</th>\n",
       "      <td>18</td>\n",
       "      <td>UNMARRIED</td>\n",
       "      <td>YES</td>\n",
       "      <td>Senior High School</td>\n",
       "      <td>YES</td>\n",
       "      <td>NO</td>\n",
       "      <td>Internet</td>\n",
       "      <td>Heterosexual</td>\n",
       "      <td>YES</td>\n",
       "      <td>POSITIVE</td>\n",
       "    </tr>\n",
       "    <tr>\n",
       "      <th>5</th>\n",
       "      <td>15</td>\n",
       "      <td>UNMARRIED</td>\n",
       "      <td>YES</td>\n",
       "      <td>Junior High School</td>\n",
       "      <td>NO</td>\n",
       "      <td>NO</td>\n",
       "      <td>Public bath</td>\n",
       "      <td>Bisexual</td>\n",
       "      <td>NO</td>\n",
       "      <td>NEGATIVE</td>\n",
       "    </tr>\n",
       "    <tr>\n",
       "      <th>6</th>\n",
       "      <td>15</td>\n",
       "      <td>UNMARRIED</td>\n",
       "      <td>YES</td>\n",
       "      <td>Junior High School</td>\n",
       "      <td>NO</td>\n",
       "      <td>NO</td>\n",
       "      <td>Public Bath</td>\n",
       "      <td>Heterosexual</td>\n",
       "      <td>YES</td>\n",
       "      <td>NEGATIVE</td>\n",
       "    </tr>\n",
       "    <tr>\n",
       "      <th>7</th>\n",
       "      <td>15</td>\n",
       "      <td>UNMARRIED</td>\n",
       "      <td>NO</td>\n",
       "      <td>Junior High School</td>\n",
       "      <td>YES</td>\n",
       "      <td>NO</td>\n",
       "      <td>Public Bath</td>\n",
       "      <td>Bisexual</td>\n",
       "      <td>NO</td>\n",
       "      <td>POSITIVE</td>\n",
       "    </tr>\n",
       "    <tr>\n",
       "      <th>8</th>\n",
       "      <td>15</td>\n",
       "      <td>UNMARRIED</td>\n",
       "      <td>YES</td>\n",
       "      <td>Junior High School</td>\n",
       "      <td>YES</td>\n",
       "      <td>YES</td>\n",
       "      <td>Internet</td>\n",
       "      <td>Heterosexual</td>\n",
       "      <td>YES</td>\n",
       "      <td>POSITIVE</td>\n",
       "    </tr>\n",
       "    <tr>\n",
       "      <th>9</th>\n",
       "      <td>15</td>\n",
       "      <td>UNMARRIED</td>\n",
       "      <td>NO</td>\n",
       "      <td>Junior High School</td>\n",
       "      <td>NO</td>\n",
       "      <td>NO</td>\n",
       "      <td>Others</td>\n",
       "      <td>Heterosexual</td>\n",
       "      <td>NO</td>\n",
       "      <td>NEGATIVE</td>\n",
       "    </tr>\n",
       "  </tbody>\n",
       "</table>\n",
       "</div>"
      ],
      "text/plain": [
       "   Age Marital Staus  STD Educational Background HIV TEST IN PAST YEAR  \\\n",
       "0   22     UNMARRIED   NO         College Degree                   YES   \n",
       "1   20     UNMARRIED   NO         College Degree                    NO   \n",
       "2   23       Married  YES         College Degree                    NO   \n",
       "3   24       Married   NO         College Degree                   YES   \n",
       "4   18     UNMARRIED  YES     Senior High School                   YES   \n",
       "5   15     UNMARRIED  YES     Junior High School                    NO   \n",
       "6   15     UNMARRIED  YES     Junior High School                    NO   \n",
       "7   15     UNMARRIED   NO     Junior High School                   YES   \n",
       "8   15     UNMARRIED  YES     Junior High School                   YES   \n",
       "9   15     UNMARRIED   NO     Junior High School                    NO   \n",
       "\n",
       "  AIDS education Places of seeking sex partners SEXUAL ORIENTATION  \\\n",
       "0             NO                            Bar       Heterosexual   \n",
       "1            YES                            NaN       Heterosexual   \n",
       "2            YES                            NaN           Bisexual   \n",
       "3            YES                           Park       Heterosexual   \n",
       "4             NO                       Internet       Heterosexual   \n",
       "5             NO                    Public bath           Bisexual   \n",
       "6             NO                    Public Bath       Heterosexual   \n",
       "7             NO                    Public Bath           Bisexual   \n",
       "8            YES                       Internet       Heterosexual   \n",
       "9             NO                         Others       Heterosexual   \n",
       "\n",
       "  Drug- taking    Result  \n",
       "0          YES  POSITIVE  \n",
       "1           NO  NEGATIVE  \n",
       "2           NO  NEGATIVE  \n",
       "3          YES  POSITIVE  \n",
       "4          YES  POSITIVE  \n",
       "5           NO  NEGATIVE  \n",
       "6          YES  NEGATIVE  \n",
       "7           NO  POSITIVE  \n",
       "8          YES  POSITIVE  \n",
       "9           NO  NEGATIVE  "
      ]
     },
     "execution_count": 4,
     "metadata": {},
     "output_type": "execute_result"
    }
   ],
   "source": [
    "df.head(10)"
   ]
  },
  {
   "cell_type": "code",
   "execution_count": 5,
   "id": "133de4b7",
   "metadata": {
    "papermill": {
     "duration": 0.049984,
     "end_time": "2023-10-28T18:42:50.040798",
     "exception": false,
     "start_time": "2023-10-28T18:42:49.990814",
     "status": "completed"
    },
    "tags": []
   },
   "outputs": [
    {
     "name": "stdout",
     "output_type": "stream",
     "text": [
      "<class 'pandas.core.frame.DataFrame'>\n",
      "RangeIndex: 698 entries, 0 to 697\n",
      "Data columns (total 10 columns):\n",
      " #   Column                          Non-Null Count  Dtype \n",
      "---  ------                          --------------  ----- \n",
      " 0   Age                             698 non-null    int64 \n",
      " 1   Marital Staus                   698 non-null    object\n",
      " 2   STD                             698 non-null    object\n",
      " 3   Educational Background          698 non-null    object\n",
      " 4   HIV TEST IN PAST YEAR           698 non-null    object\n",
      " 5   AIDS education                  698 non-null    object\n",
      " 6   Places of seeking sex partners  676 non-null    object\n",
      " 7   SEXUAL ORIENTATION              698 non-null    object\n",
      " 8   Drug- taking                    698 non-null    object\n",
      " 9   Result                          698 non-null    object\n",
      "dtypes: int64(1), object(9)\n",
      "memory usage: 54.7+ KB\n"
     ]
    }
   ],
   "source": [
    "df.info()"
   ]
  },
  {
   "cell_type": "code",
   "execution_count": 6,
   "id": "82f8c147",
   "metadata": {
    "papermill": {
     "duration": 0.030488,
     "end_time": "2023-10-28T18:42:50.086404",
     "exception": false,
     "start_time": "2023-10-28T18:42:50.055916",
     "status": "completed"
    },
    "tags": []
   },
   "outputs": [
    {
     "data": {
      "text/plain": [
       "Age                                0\n",
       "Marital Staus                      0\n",
       "STD                                0\n",
       "Educational Background             0\n",
       "HIV TEST IN PAST YEAR              0\n",
       "AIDS education                     0\n",
       "Places of seeking sex partners    22\n",
       "SEXUAL ORIENTATION                 0\n",
       "Drug- taking                       0\n",
       "Result                             0\n",
       "dtype: int64"
      ]
     },
     "execution_count": 6,
     "metadata": {},
     "output_type": "execute_result"
    }
   ],
   "source": [
    "df.isnull().sum()"
   ]
  },
  {
   "cell_type": "markdown",
   "id": "f93d4057-d97a-46fc-a786-f4c03c6cb062",
   "metadata": {},
   "source": [
    "## Evaluation:\n",
    "The model's performance will be evaluated using metrics such as accuracy, sensitivity, specificity, precision, recall, F1 score, and ROC-AUC to assess its predictive capability and generalization to unseen data."
   ]
  },
  {
   "cell_type": "code",
   "execution_count": 7,
   "id": "105f5740",
   "metadata": {
    "papermill": {
     "duration": 0.025364,
     "end_time": "2023-10-28T18:42:50.127056",
     "exception": false,
     "start_time": "2023-10-28T18:42:50.101692",
     "status": "completed"
    },
    "tags": []
   },
   "outputs": [],
   "source": [
    "def apply_result(text: str):\n",
    "    if text.lower() == \"positive\":\n",
    "        return \"Positive\"\n",
    "    else:\n",
    "        return \"Negative\""
   ]
  },
  {
   "cell_type": "code",
   "execution_count": 8,
   "id": "0289ecb1",
   "metadata": {
    "papermill": {
     "duration": 0.025859,
     "end_time": "2023-10-28T18:42:50.168260",
     "exception": false,
     "start_time": "2023-10-28T18:42:50.142401",
     "status": "completed"
    },
    "tags": []
   },
   "outputs": [],
   "source": [
    "df[\"Result\"] = df[\"Result\"].apply(apply_result)"
   ]
  },
  {
   "cell_type": "code",
   "execution_count": 10,
   "id": "4bfe98bd",
   "metadata": {
    "papermill": {
     "duration": 0.336409,
     "end_time": "2023-10-28T18:42:50.520590",
     "exception": false,
     "start_time": "2023-10-28T18:42:50.184181",
     "status": "completed"
    },
    "tags": []
   },
   "outputs": [
    {
     "data": {
      "text/plain": [
       "<Axes: xlabel='Result', ylabel='count'>"
      ]
     },
     "execution_count": 10,
     "metadata": {},
     "output_type": "execute_result"
    },
    {
     "data": {
      "image/png": "[encoded data removed]",
      "text/plain": [
       "<Figure size 1500x600 with 1 Axes>"
      ]
     },
     "metadata": {},
     "output_type": "display_data"
    }
   ],
   "source": [
    "plt.figure(figsize=(15,6))\n",
    "sns.countplot(data=df, x=\"Result\")"
   ]
  },
  {
   "cell_type": "code",
   "execution_count": 11,
   "id": "31f832be",
   "metadata": {
    "papermill": {
     "duration": 0.02609,
     "end_time": "2023-10-28T18:42:50.563205",
     "exception": false,
     "start_time": "2023-10-28T18:42:50.537115",
     "status": "completed"
    },
    "tags": []
   },
   "outputs": [],
   "source": [
    "def apply_std(text: str):\n",
    "    if text.lower() == \"yes\":\n",
    "        return \"Yes\"\n",
    "    else:\n",
    "        return \"No\""
   ]
  },
  {
   "cell_type": "code",
   "execution_count": 12,
   "id": "62f87dbc",
   "metadata": {
    "papermill": {
     "duration": 0.026254,
     "end_time": "2023-10-28T18:42:50.605492",
     "exception": false,
     "start_time": "2023-10-28T18:42:50.579238",
     "status": "completed"
    },
    "tags": []
   },
   "outputs": [],
   "source": [
    "df[\"STD\"] = df[\"STD\"].apply(apply_std)"
   ]
  },
  {
   "cell_type": "code",
   "execution_count": 13,
   "id": "84a67229",
   "metadata": {
    "papermill": {
     "duration": 0.361798,
     "end_time": "2023-10-28T18:42:50.983465",
     "exception": false,
     "start_time": "2023-10-28T18:42:50.621667",
     "status": "completed"
    },
    "tags": []
   },
   "outputs": [
    {
     "data": {
      "text/plain": [
       "<Axes: xlabel='Result', ylabel='count'>"
      ]
     },
     "execution_count": 13,
     "metadata": {},
     "output_type": "execute_result"
    },
    {
     "data": {
      "image/png": "[encoded data removed]",
      "text/plain": [
       "<Figure size 1500x600 with 1 Axes>"
      ]
     },
     "metadata": {},
     "output_type": "display_data"
    }
   ],
   "source": [
    "plt.figure(figsize=(15,6))\n",
    "sns.countplot(data=df, x=\"Result\", hue=\"STD\")"
   ]
  },
  {
   "cell_type": "code",
   "execution_count": 14,
   "id": "b7e70862",
   "metadata": {
    "papermill": {
     "duration": 0.46233,
     "end_time": "2023-10-28T18:42:51.462238",
     "exception": false,
     "start_time": "2023-10-28T18:42:50.999908",
     "status": "completed"
    },
    "tags": []
   },
   "outputs": [
    {
     "data": {
      "text/plain": [
       "<Axes: xlabel='Result', ylabel='count'>"
      ]
     },
     "execution_count": 14,
     "metadata": {},
     "output_type": "execute_result"
    },
    {
     "data": {
      "image/png": "[encoded data removed]",
      "text/plain": [
       "<Figure size 1500x600 with 1 Axes>"
      ]
     },
     "metadata": {},
     "output_type": "display_data"
    }
   ],
   "source": [
    "plt.figure(figsize=(15,6))\n",
    "sns.countplot(data=df, x=\"Result\", hue=\"Places of seeking sex partners\")"
   ]
  },
  {
   "cell_type": "code",
   "execution_count": 15,
   "id": "5664529c",
   "metadata": {
    "papermill": {
     "duration": 0.02594,
     "end_time": "2023-10-28T18:42:51.506071",
     "exception": false,
     "start_time": "2023-10-28T18:42:51.480131",
     "status": "completed"
    },
    "tags": []
   },
   "outputs": [],
   "source": [
    "def apply_ori(text: str):\n",
    "    if text.lower() == \"bisexual\":\n",
    "        return \"Bisexual\"\n",
    "    else:\n",
    "        return text"
   ]
  },
  {
   "cell_type": "code",
   "execution_count": 16,
   "id": "604d16c1",
   "metadata": {
    "papermill": {
     "duration": 0.02801,
     "end_time": "2023-10-28T18:42:51.551507",
     "exception": false,
     "start_time": "2023-10-28T18:42:51.523497",
     "status": "completed"
    },
    "tags": []
   },
   "outputs": [],
   "source": [
    "df[\"SEXUAL ORIENTATION\"] = df[\"SEXUAL ORIENTATION\"].apply(apply_ori)"
   ]
  },
  {
   "cell_type": "code",
   "execution_count": 17,
   "id": "dbc74e9b",
   "metadata": {
    "papermill": {
     "duration": 0.40343,
     "end_time": "2023-10-28T18:42:51.971987",
     "exception": false,
     "start_time": "2023-10-28T18:42:51.568557",
     "status": "completed"
    },
    "tags": []
   },
   "outputs": [
    {
     "data": {
      "text/plain": [
       "<Axes: xlabel='Result', ylabel='count'>"
      ]
     },
     "execution_count": 17,
     "metadata": {},
     "output_type": "execute_result"
    },
    {
     "data": {
      "image/png": "[encoded data removed]",
      "text/plain": [
       "<Figure size 1500x600 with 1 Axes>"
      ]
     },
     "metadata": {},
     "output_type": "display_data"
    }
   ],
   "source": [
    "plt.figure(figsize=(15,6))\n",
    "sns.countplot(data=df, x=\"Result\", hue=\"SEXUAL ORIENTATION\")"
   ]
  },
  {
   "cell_type": "code",
   "execution_count": 18,
   "id": "6813e389",
   "metadata": {
    "papermill": {
     "duration": 0.030088,
     "end_time": "2023-10-28T18:42:52.019663",
     "exception": false,
     "start_time": "2023-10-28T18:42:51.989575",
     "status": "completed"
    },
    "tags": []
   },
   "outputs": [],
   "source": [
    "def apply_aids(text: str):\n",
    "    if text.lower() == \"yes\":\n",
    "        return \"Yes\"\n",
    "    else:\n",
    "        return \"No\""
   ]
  },
  {
   "cell_type": "code",
   "execution_count": 19,
   "id": "fcd66153",
   "metadata": {
    "papermill": {
     "duration": 0.027671,
     "end_time": "2023-10-28T18:42:52.065280",
     "exception": false,
     "start_time": "2023-10-28T18:42:52.037609",
     "status": "completed"
    },
    "tags": []
   },
   "outputs": [],
   "source": [
    "df[\"AIDS education\"] = df[\"AIDS education\"].apply(apply_aids)"
   ]
  },
  {
   "cell_type": "code",
   "execution_count": 20,
   "id": "b86194af",
   "metadata": {
    "papermill": {
     "duration": 0.341886,
     "end_time": "2023-10-28T18:42:52.425395",
     "exception": false,
     "start_time": "2023-10-28T18:42:52.083509",
     "status": "completed"
    },
    "tags": []
   },
   "outputs": [
    {
     "data": {
      "text/plain": [
       "<Axes: xlabel='Result', ylabel='count'>"
      ]
     },
     "execution_count": 20,
     "metadata": {},
     "output_type": "execute_result"
    },
    {
     "data": {
      "image/png": "[encoded data removed]",
      "text/plain": [
       "<Figure size 1500x600 with 1 Axes>"
      ]
     },
     "metadata": {},
     "output_type": "display_data"
    }
   ],
   "source": [
    "plt.figure(figsize=(15,6))\n",
    "sns.countplot(data=df, x=\"Result\", hue=\"AIDS education\")"
   ]
  },
  {
   "cell_type": "markdown",
   "id": "5656283d-1fe1-4a24-8802-d60c856a7ce9",
   "metadata": {},
   "source": [
    "##5. Features:\n",
    "Key features for predicting HIV/AIDS risk may include age, gender, sexual behavior, drug use history, CD4 cell count, viral load, presence of other sexually transmitted infections (STIs), and geographic location."
   ]
  },
  {
   "cell_type": "code",
   "execution_count": 19,
   "id": "e6b200e3",
   "metadata": {
    "execution": {
     "iopub.execute_input": "2023-10-28T18:42:52.466127Z",
     "iopub.status.busy": "2023-10-28T18:42:52.465663Z",
     "iopub.status.idle": "2023-10-28T18:42:52.471177Z",
     "shell.execute_reply": "2023-10-28T18:42:52.470045Z"
    },
    "papermill": {
     "duration": 0.027994,
     "end_time": "2023-10-28T18:42:52.473433",
     "exception": false,
     "start_time": "2023-10-28T18:42:52.445439",
     "status": "completed"
    },
    "tags": []
   },
   "outputs": [],
   "source": [
    "def apply_edu(text: str):\n",
    "    if text == \"College Dregree\":\n",
    "        return \"College Degree\"\n",
    "    else:\n",
    "        return text"
   ]
  },
  {
   "cell_type": "code",
   "execution_count": 20,
   "id": "2dfb0bdc",
   "metadata": {
    "execution": {
     "iopub.execute_input": "2023-10-28T18:42:52.514857Z",
     "iopub.status.busy": "2023-10-28T18:42:52.514384Z",
     "iopub.status.idle": "2023-10-28T18:42:52.522552Z",
     "shell.execute_reply": "2023-10-28T18:42:52.521140Z"
    },
    "papermill": {
     "duration": 0.032976,
     "end_time": "2023-10-28T18:42:52.525834",
     "exception": false,
     "start_time": "2023-10-28T18:42:52.492858",
     "status": "completed"
    },
    "tags": []
   },
   "outputs": [],
   "source": [
    "df[\"Educational Background\"] = df[\"Educational Background\"].apply(apply_edu)"
   ]
  },
  {
   "cell_type": "code",
   "execution_count": 21,
   "id": "1146b7c1",
   "metadata": {
    "execution": {
     "iopub.execute_input": "2023-10-28T18:42:52.566284Z",
     "iopub.status.busy": "2023-10-28T18:42:52.565857Z",
     "iopub.status.idle": "2023-10-28T18:42:52.973107Z",
     "shell.execute_reply": "2023-10-28T18:42:52.971974Z"
    },
    "papermill": {
     "duration": 0.430869,
     "end_time": "2023-10-28T18:42:52.975772",
     "exception": false,
     "start_time": "2023-10-28T18:42:52.544903",
     "status": "completed"
    },
    "tags": []
   },
   "outputs": [
    {
     "data": {
      "text/plain": [
       "<Axes: xlabel='Result', ylabel='count'>"
      ]
     },
     "execution_count": 21,
     "metadata": {},
     "output_type": "execute_result"
    },
    {
     "data": {
      "image/png": "[encoded data removed]",
      "text/plain": [
       "<Figure size 1500x600 with 1 Axes>"
      ]
     },
     "metadata": {},
     "output_type": "display_data"
    }
   ],
   "source": [
    "plt.figure(figsize=(15,6))\n",
    "sns.countplot(data=df, x=\"Result\", hue=\"Educational Background\")"
   ]
  },
  {
   "cell_type": "code",
   "execution_count": 22,
   "id": "cb8c41a7",
   "metadata": {
    "execution": {
     "iopub.execute_input": "2023-10-28T18:42:53.019748Z",
     "iopub.status.busy": "2023-10-28T18:42:53.019356Z",
     "iopub.status.idle": "2023-10-28T18:42:53.025286Z",
     "shell.execute_reply": "2023-10-28T18:42:53.024297Z"
    },
    "papermill": {
     "duration": 0.031781,
     "end_time": "2023-10-28T18:42:53.027458",
     "exception": false,
     "start_time": "2023-10-28T18:42:52.995677",
     "status": "completed"
    },
    "tags": []
   },
   "outputs": [],
   "source": [
    "def apply_sts(text: str):\n",
    "    if text.lower() == \"married\":\n",
    "        return \"Married\"\n",
    "    elif text.lower() == \"divorced\":\n",
    "        return \"Divorced\"\n",
    "    else:\n",
    "        return text"
   ]
  },
  {
   "cell_type": "code",
   "execution_count": 23,
   "id": "0c1fe917",
   "metadata": {
    "execution": {
     "iopub.execute_input": "2023-10-28T18:42:53.067029Z",
     "iopub.status.busy": "2023-10-28T18:42:53.066573Z",
     "iopub.status.idle": "2023-10-28T18:42:53.073520Z",
     "shell.execute_reply": "2023-10-28T18:42:53.072356Z"
    },
    "papermill": {
     "duration": 0.029565,
     "end_time": "2023-10-28T18:42:53.075873",
     "exception": false,
     "start_time": "2023-10-28T18:42:53.046308",
     "status": "completed"
    },
    "tags": []
   },
   "outputs": [],
   "source": [
    "df[\"Marital Staus\"] = df[\"Marital Staus\"].apply(apply_sts)"
   ]
  },
  {
   "cell_type": "code",
   "execution_count": 24,
   "id": "7cb1407d",
   "metadata": {
    "execution": {
     "iopub.execute_input": "2023-10-28T18:42:53.115801Z",
     "iopub.status.busy": "2023-10-28T18:42:53.115379Z",
     "iopub.status.idle": "2023-10-28T18:42:53.506230Z",
     "shell.execute_reply": "2023-10-28T18:42:53.505028Z"
    },
    "papermill": {
     "duration": 0.414598,
     "end_time": "2023-10-28T18:42:53.509337",
     "exception": false,
     "start_time": "2023-10-28T18:42:53.094739",
     "status": "completed"
    },
    "tags": []
   },
   "outputs": [
    {
     "data": {
      "text/plain": [
       "<Axes: xlabel='Result', ylabel='count'>"
      ]
     },
     "execution_count": 24,
     "metadata": {},
     "output_type": "execute_result"
    },
    {
     "data": {
      "image/png": "[encoded data removed]",
      "text/plain": [
       "<Figure size 1500x600 with 1 Axes>"
      ]
     },
     "metadata": {},
     "output_type": "display_data"
    }
   ],
   "source": [
    "plt.figure(figsize=(15,6))\n",
    "sns.countplot(data=df, x=\"Result\", hue=\"Marital Staus\")"
   ]
  },
  {
   "cell_type": "code",
   "execution_count": 25,
   "id": "8b1d3009",
   "metadata": {
    "execution": {
     "iopub.execute_input": "2023-10-28T18:42:53.554874Z",
     "iopub.status.busy": "2023-10-28T18:42:53.554469Z",
     "iopub.status.idle": "2023-10-28T18:42:53.559299Z",
     "shell.execute_reply": "2023-10-28T18:42:53.558300Z"
    },
    "papermill": {
     "duration": 0.029134,
     "end_time": "2023-10-28T18:42:53.561516",
     "exception": false,
     "start_time": "2023-10-28T18:42:53.532382",
     "status": "completed"
    },
    "tags": []
   },
   "outputs": [],
   "source": [
    "def apply_drg(text: str):\n",
    "    if text.lower() == \"yes\":\n",
    "        return \"Yes\"\n",
    "    else:\n",
    "        return \"No\""
   ]
  },
  {
   "cell_type": "code",
   "execution_count": 26,
   "id": "4a582c27",
   "metadata": {
    "execution": {
     "iopub.execute_input": "2023-10-28T18:42:53.604821Z",
     "iopub.status.busy": "2023-10-28T18:42:53.604217Z",
     "iopub.status.idle": "2023-10-28T18:42:53.610471Z",
     "shell.execute_reply": "2023-10-28T18:42:53.609181Z"
    },
    "papermill": {
     "duration": 0.031917,
     "end_time": "2023-10-28T18:42:53.613236",
     "exception": false,
     "start_time": "2023-10-28T18:42:53.581319",
     "status": "completed"
    },
    "tags": []
   },
   "outputs": [],
   "source": [
    "df[\"Drug- taking\"] = df[\"Drug- taking\"].apply(apply_drg)"
   ]
  },
  {
   "cell_type": "code",
   "execution_count": 27,
   "id": "c09335e1",
   "metadata": {
    "execution": {
     "iopub.execute_input": "2023-10-28T18:42:53.655041Z",
     "iopub.status.busy": "2023-10-28T18:42:53.654573Z",
     "iopub.status.idle": "2023-10-28T18:42:53.980118Z",
     "shell.execute_reply": "2023-10-28T18:42:53.978882Z"
    },
    "papermill": {
     "duration": 0.34896,
     "end_time": "2023-10-28T18:42:53.982568",
     "exception": false,
     "start_time": "2023-10-28T18:42:53.633608",
     "status": "completed"
    },
    "tags": []
   },
   "outputs": [
    {
     "data": {
      "text/plain": [
       "<Axes: xlabel='Result', ylabel='count'>"
      ]
     },
     "execution_count": 27,
     "metadata": {},
     "output_type": "execute_result"
    },
    {
     "data": {
      "image/png": "[encoded data removed]",
      "text/plain": [
       "<Figure size 1500x600 with 1 Axes>"
      ]
     },
     "metadata": {},
     "output_type": "display_data"
    }
   ],
   "source": [
    "plt.figure(figsize=(15,6))\n",
    "sns.countplot(data=df, x=\"Result\", hue=\"Drug- taking\")"
   ]
  },
  {
   "cell_type": "code",
   "execution_count": 28,
   "id": "289b17b4",
   "metadata": {
    "execution": {
     "iopub.execute_input": "2023-10-28T18:42:54.025247Z",
     "iopub.status.busy": "2023-10-28T18:42:54.024832Z",
     "iopub.status.idle": "2023-10-28T18:42:54.030095Z",
     "shell.execute_reply": "2023-10-28T18:42:54.028857Z"
    },
    "papermill": {
     "duration": 0.029166,
     "end_time": "2023-10-28T18:42:54.032304",
     "exception": false,
     "start_time": "2023-10-28T18:42:54.003138",
     "status": "completed"
    },
    "tags": []
   },
   "outputs": [],
   "source": [
    "def apply_test(text: str):\n",
    "    if text.lower() == \"yes\":\n",
    "        return \"Yes\"\n",
    "    else:\n",
    "        return \"No\""
   ]
  },
  {
   "cell_type": "code",
   "execution_count": 29,
   "id": "42ed4370",
   "metadata": {
    "execution": {
     "iopub.execute_input": "2023-10-28T18:42:54.074116Z",
     "iopub.status.busy": "2023-10-28T18:42:54.072997Z",
     "iopub.status.idle": "2023-10-28T18:42:54.079104Z",
     "shell.execute_reply": "2023-10-28T18:42:54.078239Z"
    },
    "papermill": {
     "duration": 0.029032,
     "end_time": "2023-10-28T18:42:54.081267",
     "exception": false,
     "start_time": "2023-10-28T18:42:54.052235",
     "status": "completed"
    },
    "tags": []
   },
   "outputs": [],
   "source": [
    "df[\"HIV TEST IN PAST YEAR\"] = df[\"HIV TEST IN PAST YEAR\"].apply(apply_test)"
   ]
  },
  {
   "cell_type": "code",
   "execution_count": 30,
   "id": "7130f50d",
   "metadata": {
    "execution": {
     "iopub.execute_input": "2023-10-28T18:42:54.124728Z",
     "iopub.status.busy": "2023-10-28T18:42:54.124001Z",
     "iopub.status.idle": "2023-10-28T18:42:54.436038Z",
     "shell.execute_reply": "2023-10-28T18:42:54.434900Z"
    },
    "papermill": {
     "duration": 0.336713,
     "end_time": "2023-10-28T18:42:54.438652",
     "exception": false,
     "start_time": "2023-10-28T18:42:54.101939",
     "status": "completed"
    },
    "tags": []
   },
   "outputs": [
    {
     "data": {
      "text/plain": [
       "<Axes: xlabel='Result', ylabel='count'>"
      ]
     },
     "execution_count": 30,
     "metadata": {},
     "output_type": "execute_result"
    },
    {
     "data": {
      "image/png": "[encoded data removed]",
      "text/plain": [
       "<Figure size 1500x600 with 1 Axes>"
      ]
     },
     "metadata": {},
     "output_type": "display_data"
    }
   ],
   "source": [
    "plt.figure(figsize=(15,6))\n",
    "sns.countplot(data=df, x=\"Result\", hue=\"HIV TEST IN PAST YEAR\")"
   ]
  },
  {
   "cell_type": "code",
   "execution_count": 21,
   "id": "1e27b12e",
   "metadata": {
    "papermill": {
     "duration": 0.468682,
     "end_time": "2023-10-28T18:42:54.928199",
     "exception": false,
     "start_time": "2023-10-28T18:42:54.459517",
     "status": "completed"
    },
    "tags": []
   },
   "outputs": [
    {
     "data": {
      "text/plain": [
       "<seaborn.axisgrid.FacetGrid at 0x161f37e0a90>"
      ]
     },
     "execution_count": 21,
     "metadata": {},
     "output_type": "execute_result"
    },
    {
     "data": {
      "text/plain": [
       "<Figure size 1500x600 with 0 Axes>"
      ]
     },
     "metadata": {},
     "output_type": "display_data"
    },
    {
     "data": {
      "image/png": "[encoded data removed]",
      "text/plain": [
       "<Figure size 500x500 with 1 Axes>"
      ]
     },
     "metadata": {},
     "output_type": "display_data"
    }
   ],
   "source": [
    "plt.figure(figsize=(15,6))\n",
    "sns.catplot(data=df, kind=\"bar\", x=\"Result\", y=\"Age\")"
   ]
  },
  {
   "cell_type": "markdown",
   "id": "01410d4e",
   "metadata": {
    "papermill": {
     "duration": 0.021932,
     "end_time": "2023-10-28T18:42:54.972508",
     "exception": false,
     "start_time": "2023-10-28T18:42:54.950576",
     "status": "completed"
    },
    "tags": []
   },
   "source": [
    "## Data Preprocessing"
   ]
  },
  {
   "cell_type": "code",
   "execution_count": 22,
   "id": "390fcb92",
   "metadata": {
    "papermill": {
     "duration": 0.036564,
     "end_time": "2023-10-28T18:42:55.030685",
     "exception": false,
     "start_time": "2023-10-28T18:42:54.994121",
     "status": "completed"
    },
    "tags": []
   },
   "outputs": [
    {
     "name": "stdout",
     "output_type": "stream",
     "text": [
      "The Numerical Features: ['Age']\n",
      "The Nominal Features: ['Marital Staus', 'STD', 'Educational Background', 'HIV TEST IN PAST YEAR', 'AIDS education', 'Places of seeking sex partners', 'SEXUAL ORIENTATION', 'Drug- taking']\n"
     ]
    }
   ],
   "source": [
    "# Splitting the data to Numerical Features and Categorical Features\n",
    "num_features = list(df.select_dtypes('number'))\n",
    "# num_features.remove('Price')\n",
    "\n",
    "nom_features = list(df.select_dtypes('object'))\n",
    "nom_features.remove('Result')\n",
    "\n",
    "# ord_features = ['Owner_Type']\n",
    "\n",
    "print(f'The Numerical Features: {num_features}')\n",
    "print(f'The Nominal Features: {nom_features}')\n",
    "# print(f'The Ordinal Features: {ord_features}')"
   ]
  },
  {
   "cell_type": "code",
   "execution_count": 23,
   "id": "7e35a580",
   "metadata": {
    "papermill": {
     "duration": 0.308254,
     "end_time": "2023-10-28T18:42:55.361075",
     "exception": false,
     "start_time": "2023-10-28T18:42:55.052821",
     "status": "completed"
    },
    "tags": []
   },
   "outputs": [],
   "source": [
    "from sklearn.model_selection import train_test_split\n",
    "X = df.drop(\"Result\", axis=1)\n",
    "y = df['Result'] \n",
    "\n",
    "X_train, X_test, y_train, y_test = train_test_split(X, y, test_size  = 0.2, random_state = 42)"
   ]
  },
  {
   "cell_type": "code",
   "execution_count": 24,
   "id": "65b783ba",
   "metadata": {
    "papermill": {
     "duration": 0.042094,
     "end_time": "2023-10-28T18:42:55.425020",
     "exception": false,
     "start_time": "2023-10-28T18:42:55.382926",
     "status": "completed"
    },
    "tags": []
   },
   "outputs": [
    {
     "data": {
      "text/html": [
       "<div>\n",
       "<style scoped>\n",
       "    .dataframe tbody tr th:only-of-type {\n",
       "        vertical-align: middle;\n",
       "    }\n",
       "\n",
       "    .dataframe tbody tr th {\n",
       "        vertical-align: top;\n",
       "    }\n",
       "\n",
       "    .dataframe thead th {\n",
       "        text-align: right;\n",
       "    }\n",
       "</style>\n",
       "<table border=\"1\" class=\"dataframe\">\n",
       "  <thead>\n",
       "    <tr style=\"text-align: right;\">\n",
       "      <th></th>\n",
       "      <th>Age</th>\n",
       "      <th>Marital Staus</th>\n",
       "      <th>STD</th>\n",
       "      <th>Educational Background</th>\n",
       "      <th>HIV TEST IN PAST YEAR</th>\n",
       "      <th>AIDS education</th>\n",
       "      <th>Places of seeking sex partners</th>\n",
       "      <th>SEXUAL ORIENTATION</th>\n",
       "      <th>Drug- taking</th>\n",
       "    </tr>\n",
       "  </thead>\n",
       "  <tbody>\n",
       "    <tr>\n",
       "      <th>82</th>\n",
       "      <td>34</td>\n",
       "      <td>UNMARRIED</td>\n",
       "      <td>No</td>\n",
       "      <td>College Degree</td>\n",
       "      <td>NO</td>\n",
       "      <td>Yes</td>\n",
       "      <td>Bar</td>\n",
       "      <td>Bisexual</td>\n",
       "      <td>NO</td>\n",
       "    </tr>\n",
       "    <tr>\n",
       "      <th>51</th>\n",
       "      <td>37</td>\n",
       "      <td>Divorced</td>\n",
       "      <td>No</td>\n",
       "      <td>Junior High School</td>\n",
       "      <td>NO</td>\n",
       "      <td>No</td>\n",
       "      <td>Internet</td>\n",
       "      <td>Bisexual</td>\n",
       "      <td>NO</td>\n",
       "    </tr>\n",
       "    <tr>\n",
       "      <th>220</th>\n",
       "      <td>75</td>\n",
       "      <td>MARRIED</td>\n",
       "      <td>Yes</td>\n",
       "      <td>Illiteracy</td>\n",
       "      <td>NO</td>\n",
       "      <td>No</td>\n",
       "      <td>Bar</td>\n",
       "      <td>Heterosexual</td>\n",
       "      <td>YES</td>\n",
       "    </tr>\n",
       "    <tr>\n",
       "      <th>559</th>\n",
       "      <td>75</td>\n",
       "      <td>MARRIED</td>\n",
       "      <td>No</td>\n",
       "      <td>Senior High School</td>\n",
       "      <td>YES</td>\n",
       "      <td>No</td>\n",
       "      <td>Park</td>\n",
       "      <td>Bisexual</td>\n",
       "      <td>NO</td>\n",
       "    </tr>\n",
       "    <tr>\n",
       "      <th>544</th>\n",
       "      <td>54</td>\n",
       "      <td>UNMARRIED</td>\n",
       "      <td>No</td>\n",
       "      <td>College Dregree</td>\n",
       "      <td>NO</td>\n",
       "      <td>Yes</td>\n",
       "      <td>NaN</td>\n",
       "      <td>Heterosexual</td>\n",
       "      <td>YES</td>\n",
       "    </tr>\n",
       "  </tbody>\n",
       "</table>\n",
       "</div>"
      ],
      "text/plain": [
       "     Age Marital Staus  STD Educational Background HIV TEST IN PAST YEAR  \\\n",
       "82    34     UNMARRIED   No         College Degree                    NO   \n",
       "51    37      Divorced   No     Junior High School                    NO   \n",
       "220   75       MARRIED  Yes             Illiteracy                    NO   \n",
       "559   75       MARRIED   No     Senior High School                   YES   \n",
       "544   54     UNMARRIED   No        College Dregree                    NO   \n",
       "\n",
       "    AIDS education Places of seeking sex partners SEXUAL ORIENTATION  \\\n",
       "82             Yes                            Bar           Bisexual   \n",
       "51              No                       Internet           Bisexual   \n",
       "220             No                            Bar       Heterosexual   \n",
       "559             No                           Park           Bisexual   \n",
       "544            Yes                            NaN       Heterosexual   \n",
       "\n",
       "    Drug- taking  \n",
       "82            NO  \n",
       "51            NO  \n",
       "220          YES  \n",
       "559           NO  \n",
       "544          YES  "
      ]
     },
     "execution_count": 24,
     "metadata": {},
     "output_type": "execute_result"
    }
   ],
   "source": [
    "X_train.head()"
   ]
  },
  {
   "cell_type": "code",
   "execution_count": 25,
   "id": "63526ea2",
   "metadata": {
    "papermill": {
     "duration": 0.28597,
     "end_time": "2023-10-28T18:42:55.732635",
     "exception": false,
     "start_time": "2023-10-28T18:42:55.446665",
     "status": "completed"
    },
    "tags": []
   },
   "outputs": [],
   "source": [
    "from sklearn.impute import SimpleImputer\n",
    "from sklearn.preprocessing import StandardScaler\n",
    "from sklearn.preprocessing import OrdinalEncoder\n",
    "from sklearn.preprocessing import OneHotEncoder\n",
    "from sklearn.preprocessing import PolynomialFeatures\n",
    "\n",
    "from sklearn.pipeline import Pipeline\n",
    "from sklearn.pipeline import make_pipeline\n",
    "from sklearn.compose import ColumnTransformer"
   ]
  },
  {
   "cell_type": "code",
   "execution_count": 26,
   "id": "59cc045d",
   "metadata": {
    "papermill": {
     "duration": 0.069365,
     "end_time": "2023-10-28T18:42:55.823831",
     "exception": false,
     "start_time": "2023-10-28T18:42:55.754466",
     "status": "completed"
    },
    "tags": []
   },
   "outputs": [
    {
     "data": {
      "text/html": [
       "<style>#sk-container-id-1 {color: black;background-color: white;}#sk-container-id-1 pre{padding: 0;}#sk-container-id-1 div.sk-toggleable {background-color: white;}#sk-container-id-1 label.sk-toggleable__label {cursor: pointer;display: block;width: 100%;margin-bottom: 0;padding: 0.3em;box-sizing: border-box;text-align: center;}#sk-container-id-1 label.sk-toggleable__label-arrow:before {content: \"▸\";float: left;margin-right: 0.25em;color: #696969;}#sk-container-id-1 label.sk-toggleable__label-arrow:hover:before {color: black;}#sk-container-id-1 div.sk-estimator:hover label.sk-toggleable__label-arrow:before {color: black;}#sk-container-id-1 div.sk-toggleable__content {max-height: 0;max-width: 0;overflow: hidden;text-align: left;background-color: #f0f8ff;}#sk-container-id-1 div.sk-toggleable__content pre {margin: 0.2em;color: black;border-radius: 0.25em;background-color: #f0f8ff;}#sk-container-id-1 input.sk-toggleable__control:checked~div.sk-toggleable__content {max-height: 200px;max-width: 100%;overflow: auto;}#sk-container-id-1 input.sk-toggleable__control:checked~label.sk-toggleable__label-arrow:before {content: \"▾\";}#sk-container-id-1 div.sk-estimator input.sk-toggleable__control:checked~label.sk-toggleable__label {background-color: #d4ebff;}#sk-container-id-1 div.sk-label input.sk-toggleable__control:checked~label.sk-toggleable__label {background-color: #d4ebff;}#sk-container-id-1 input.sk-hidden--visually {border: 0;clip: rect(1px 1px 1px 1px);clip: rect(1px, 1px, 1px, 1px);height: 1px;margin: -1px;overflow: hidden;padding: 0;position: absolute;width: 1px;}#sk-container-id-1 div.sk-estimator {font-family: monospace;background-color: #f0f8ff;border: 1px dotted black;border-radius: 0.25em;box-sizing: border-box;margin-bottom: 0.5em;}#sk-container-id-1 div.sk-estimator:hover {background-color: #d4ebff;}#sk-container-id-1 div.sk-parallel-item::after {content: \"\";width: 100%;border-bottom: 1px solid gray;flex-grow: 1;}#sk-container-id-1 div.sk-label:hover label.sk-toggleable__label {background-color: #d4ebff;}#sk-container-id-1 div.sk-serial::before {content: \"\";position: absolute;border-left: 1px solid gray;box-sizing: border-box;top: 0;bottom: 0;left: 50%;z-index: 0;}#sk-container-id-1 div.sk-serial {display: flex;flex-direction: column;align-items: center;background-color: white;padding-right: 0.2em;padding-left: 0.2em;position: relative;}#sk-container-id-1 div.sk-item {position: relative;z-index: 1;}#sk-container-id-1 div.sk-parallel {display: flex;align-items: stretch;justify-content: center;background-color: white;position: relative;}#sk-container-id-1 div.sk-item::before, #sk-container-id-1 div.sk-parallel-item::before {content: \"\";position: absolute;border-left: 1px solid gray;box-sizing: border-box;top: 0;bottom: 0;left: 50%;z-index: -1;}#sk-container-id-1 div.sk-parallel-item {display: flex;flex-direction: column;z-index: 1;position: relative;background-color: white;}#sk-container-id-1 div.sk-parallel-item:first-child::after {align-self: flex-end;width: 50%;}#sk-container-id-1 div.sk-parallel-item:last-child::after {align-self: flex-start;width: 50%;}#sk-container-id-1 div.sk-parallel-item:only-child::after {width: 0;}#sk-container-id-1 div.sk-dashed-wrapped {border: 1px dashed gray;margin: 0 0.4em 0.5em 0.4em;box-sizing: border-box;padding-bottom: 0.4em;background-color: white;}#sk-container-id-1 div.sk-label label {font-family: monospace;font-weight: bold;display: inline-block;line-height: 1.2em;}#sk-container-id-1 div.sk-label-container {text-align: center;}#sk-container-id-1 div.sk-container {/* jupyter's `normalize.less` sets `[hidden] { display: none; }` but bootstrap.min.css set `[hidden] { display: none !important; }` so we also need the `!important` here to be able to override the default hidden behavior on the sphinx rendered scikit-learn.org. See: https://github.com/scikit-learn/scikit-learn/issues/21755 */display: inline-block !important;position: relative;}#sk-container-id-1 div.sk-text-repr-fallback {display: none;}</style><div id=\"sk-container-id-1\" class=\"sk-top-container\"><div class=\"sk-text-repr-fallback\"><pre>ColumnTransformer(transformers=[(&#x27;numerical&#x27;,\n",
       "                                 Pipeline(steps=[(&#x27;standardscaler&#x27;,\n",
       "                                                  StandardScaler())]),\n",
       "                                 [&#x27;Age&#x27;]),\n",
       "                                (&#x27;nominal&#x27;,\n",
       "                                 Pipeline(steps=[(&#x27;onehotencoder&#x27;,\n",
       "                                                  OneHotEncoder())]),\n",
       "                                 [&#x27;Marital Staus&#x27;, &#x27;STD&#x27;,\n",
       "                                  &#x27;Educational Background&#x27;,\n",
       "                                  &#x27;HIV TEST IN PAST YEAR&#x27;, &#x27;AIDS education&#x27;,\n",
       "                                  &#x27;Places of seeking sex partners&#x27;,\n",
       "                                  &#x27;SEXUAL ORIENTATION&#x27;, &#x27;Drug- taking&#x27;])])</pre><b>In a Jupyter environment, please rerun this cell to show the HTML representation or trust the notebook. <br />On GitHub, the HTML representation is unable to render, please try loading this page with nbviewer.org.</b></div><div class=\"sk-container\" hidden><div class=\"sk-item sk-dashed-wrapped\"><div class=\"sk-label-container\"><div class=\"sk-label sk-toggleable\"><input class=\"sk-toggleable__control sk-hidden--visually\" id=\"sk-estimator-id-1\" type=\"checkbox\" ><label for=\"sk-estimator-id-1\" class=\"sk-toggleable__label sk-toggleable__label-arrow\">ColumnTransformer</label><div class=\"sk-toggleable__content\"><pre>ColumnTransformer(transformers=[(&#x27;numerical&#x27;,\n",
       "                                 Pipeline(steps=[(&#x27;standardscaler&#x27;,\n",
       "                                                  StandardScaler())]),\n",
       "                                 [&#x27;Age&#x27;]),\n",
       "                                (&#x27;nominal&#x27;,\n",
       "                                 Pipeline(steps=[(&#x27;onehotencoder&#x27;,\n",
       "                                                  OneHotEncoder())]),\n",
       "                                 [&#x27;Marital Staus&#x27;, &#x27;STD&#x27;,\n",
       "                                  &#x27;Educational Background&#x27;,\n",
       "                                  &#x27;HIV TEST IN PAST YEAR&#x27;, &#x27;AIDS education&#x27;,\n",
       "                                  &#x27;Places of seeking sex partners&#x27;,\n",
       "                                  &#x27;SEXUAL ORIENTATION&#x27;, &#x27;Drug- taking&#x27;])])</pre></div></div></div><div class=\"sk-parallel\"><div class=\"sk-parallel-item\"><div class=\"sk-item\"><div class=\"sk-label-container\"><div class=\"sk-label sk-toggleable\"><input class=\"sk-toggleable__control sk-hidden--visually\" id=\"sk-estimator-id-2\" type=\"checkbox\" ><label for=\"sk-estimator-id-2\" class=\"sk-toggleable__label sk-toggleable__label-arrow\">numerical</label><div class=\"sk-toggleable__content\"><pre>[&#x27;Age&#x27;]</pre></div></div></div><div class=\"sk-serial\"><div class=\"sk-item\"><div class=\"sk-serial\"><div class=\"sk-item\"><div class=\"sk-estimator sk-toggleable\"><input class=\"sk-toggleable__control sk-hidden--visually\" id=\"sk-estimator-id-3\" type=\"checkbox\" ><label for=\"sk-estimator-id-3\" class=\"sk-toggleable__label sk-toggleable__label-arrow\">StandardScaler</label><div class=\"sk-toggleable__content\"><pre>StandardScaler()</pre></div></div></div></div></div></div></div></div><div class=\"sk-parallel-item\"><div class=\"sk-item\"><div class=\"sk-label-container\"><div class=\"sk-label sk-toggleable\"><input class=\"sk-toggleable__control sk-hidden--visually\" id=\"sk-estimator-id-4\" type=\"checkbox\" ><label for=\"sk-estimator-id-4\" class=\"sk-toggleable__label sk-toggleable__label-arrow\">nominal</label><div class=\"sk-toggleable__content\"><pre>[&#x27;Marital Staus&#x27;, &#x27;STD&#x27;, &#x27;Educational Background&#x27;, &#x27;HIV TEST IN PAST YEAR&#x27;, &#x27;AIDS education&#x27;, &#x27;Places of seeking sex partners&#x27;, &#x27;SEXUAL ORIENTATION&#x27;, &#x27;Drug- taking&#x27;]</pre></div></div></div><div class=\"sk-serial\"><div class=\"sk-item\"><div class=\"sk-serial\"><div class=\"sk-item\"><div class=\"sk-estimator sk-toggleable\"><input class=\"sk-toggleable__control sk-hidden--visually\" id=\"sk-estimator-id-5\" type=\"checkbox\" ><label for=\"sk-estimator-id-5\" class=\"sk-toggleable__label sk-toggleable__label-arrow\">OneHotEncoder</label><div class=\"sk-toggleable__content\"><pre>OneHotEncoder()</pre></div></div></div></div></div></div></div></div></div></div></div></div>"
      ],
      "text/plain": [
       "ColumnTransformer(transformers=[('numerical',\n",
       "                                 Pipeline(steps=[('standardscaler',\n",
       "                                                  StandardScaler())]),\n",
       "                                 ['Age']),\n",
       "                                ('nominal',\n",
       "                                 Pipeline(steps=[('onehotencoder',\n",
       "                                                  OneHotEncoder())]),\n",
       "                                 ['Marital Staus', 'STD',\n",
       "                                  'Educational Background',\n",
       "                                  'HIV TEST IN PAST YEAR', 'AIDS education',\n",
       "                                  'Places of seeking sex partners',\n",
       "                                  'SEXUAL ORIENTATION', 'Drug- taking'])])"
      ]
     },
     "execution_count": 26,
     "metadata": {},
     "output_type": "execute_result"
    }
   ],
   "source": [
    "# numerical pipeline\n",
    "num_pipeline = make_pipeline(\n",
    "                             StandardScaler()\n",
    "                            )\n",
    "\n",
    "nom_pipeline = make_pipeline(\n",
    "                             OneHotEncoder()\n",
    "                            )\n",
    "\n",
    "preprocessor = ColumnTransformer([\n",
    "                                  ('numerical', num_pipeline, num_features), \n",
    "                                  ('nominal', nom_pipeline, nom_features),\n",
    "                                ])\n",
    "preprocessor.fit(X_train)"
   ]
  },
  {
   "cell_type": "code",
   "execution_count": 27,
   "id": "de7703ca",
   "metadata": {
    "papermill": {
     "duration": 0.047219,
     "end_time": "2023-10-28T18:42:55.893351",
     "exception": false,
     "start_time": "2023-10-28T18:42:55.846132",
     "status": "completed"
    },
    "tags": []
   },
   "outputs": [],
   "source": [
    "# Transform the training data\n",
    "X_train_transformed = preprocessor.transform(X_train)\n",
    "\n",
    "# Transform the testing data\n",
    "X_test_transformed = preprocessor.transform(X_test)"
   ]
  },
  {
   "cell_type": "code",
   "execution_count": 28,
   "id": "eab16cc2",
   "metadata": {
    "papermill": {
     "duration": 0.033582,
     "end_time": "2023-10-28T18:42:55.949719",
     "exception": false,
     "start_time": "2023-10-28T18:42:55.916137",
     "status": "completed"
    },
    "tags": []
   },
   "outputs": [],
   "source": [
    "from sklearn.preprocessing import LabelEncoder\n",
    "\n",
    "le = LabelEncoder()\n",
    "y_train = le.fit_transform(y_train)\n",
    "y_test = le.transform(y_test)"
   ]
  },
  {
   "cell_type": "code",
   "execution_count": 29,
   "id": "17b55105",
   "metadata": {
    "papermill": {
     "duration": 0.034951,
     "end_time": "2023-10-28T18:42:56.006914",
     "exception": false,
     "start_time": "2023-10-28T18:42:55.971963",
     "status": "completed"
    },
    "tags": []
   },
   "outputs": [
    {
     "data": {
      "text/plain": [
       "array([1, 0, 0, 0, 0, 1, 1, 0, 1, 1, 0, 1, 0, 0, 0, 1, 0, 0, 1, 1, 0, 0,\n",
       "       0, 0, 1, 1, 0, 1, 0, 0, 0, 0, 0, 0, 1, 1, 0, 0, 1, 1, 1, 0, 0, 0,\n",
       "       1, 1, 1, 1, 1, 1, 0, 1, 1, 1, 0, 0, 1, 1, 0, 0, 0, 1, 1, 0, 1, 0,\n",
       "       1, 1, 0, 0, 1, 0, 0, 1, 1, 1, 1, 0, 0, 1, 0, 1, 1, 0, 0, 0, 1, 0,\n",
       "       1, 0, 0, 1, 1, 0, 1, 0, 1, 1, 1, 0, 1, 1, 1, 1, 1, 1, 0, 0, 0, 0,\n",
       "       1, 1, 0, 1, 1, 1, 1, 1, 0, 1, 1, 1, 1, 0, 0, 1, 0, 1, 1, 1, 1, 1,\n",
       "       0, 0, 0, 1, 1, 0, 0, 1])"
      ]
     },
     "execution_count": 29,
     "metadata": {},
     "output_type": "execute_result"
    }
   ],
   "source": [
    "y_test"
   ]
  },
  {
   "cell_type": "code",
   "execution_count": 30,
   "id": "d10713f4",
   "metadata": {
    "papermill": {
     "duration": 0.63411,
     "end_time": "2023-10-28T18:42:56.663860",
     "exception": false,
     "start_time": "2023-10-28T18:42:56.029750",
     "status": "completed"
    },
    "tags": []
   },
   "outputs": [
    {
     "data": {
      "text/html": [
       "<style>#sk-container-id-2 {color: black;background-color: white;}#sk-container-id-2 pre{padding: 0;}#sk-container-id-2 div.sk-toggleable {background-color: white;}#sk-container-id-2 label.sk-toggleable__label {cursor: pointer;display: block;width: 100%;margin-bottom: 0;padding: 0.3em;box-sizing: border-box;text-align: center;}#sk-container-id-2 label.sk-toggleable__label-arrow:before {content: \"▸\";float: left;margin-right: 0.25em;color: #696969;}#sk-container-id-2 label.sk-toggleable__label-arrow:hover:before {color: black;}#sk-container-id-2 div.sk-estimator:hover label.sk-toggleable__label-arrow:before {color: black;}#sk-container-id-2 div.sk-toggleable__content {max-height: 0;max-width: 0;overflow: hidden;text-align: left;background-color: #f0f8ff;}#sk-container-id-2 div.sk-toggleable__content pre {margin: 0.2em;color: black;border-radius: 0.25em;background-color: #f0f8ff;}#sk-container-id-2 input.sk-toggleable__control:checked~div.sk-toggleable__content {max-height: 200px;max-width: 100%;overflow: auto;}#sk-container-id-2 input.sk-toggleable__control:checked~label.sk-toggleable__label-arrow:before {content: \"▾\";}#sk-container-id-2 div.sk-estimator input.sk-toggleable__control:checked~label.sk-toggleable__label {background-color: #d4ebff;}#sk-container-id-2 div.sk-label input.sk-toggleable__control:checked~label.sk-toggleable__label {background-color: #d4ebff;}#sk-container-id-2 input.sk-hidden--visually {border: 0;clip: rect(1px 1px 1px 1px);clip: rect(1px, 1px, 1px, 1px);height: 1px;margin: -1px;overflow: hidden;padding: 0;position: absolute;width: 1px;}#sk-container-id-2 div.sk-estimator {font-family: monospace;background-color: #f0f8ff;border: 1px dotted black;border-radius: 0.25em;box-sizing: border-box;margin-bottom: 0.5em;}#sk-container-id-2 div.sk-estimator:hover {background-color: #d4ebff;}#sk-container-id-2 div.sk-parallel-item::after {content: \"\";width: 100%;border-bottom: 1px solid gray;flex-grow: 1;}#sk-container-id-2 div.sk-label:hover label.sk-toggleable__label {background-color: #d4ebff;}#sk-container-id-2 div.sk-serial::before {content: \"\";position: absolute;border-left: 1px solid gray;box-sizing: border-box;top: 0;bottom: 0;left: 50%;z-index: 0;}#sk-container-id-2 div.sk-serial {display: flex;flex-direction: column;align-items: center;background-color: white;padding-right: 0.2em;padding-left: 0.2em;position: relative;}#sk-container-id-2 div.sk-item {position: relative;z-index: 1;}#sk-container-id-2 div.sk-parallel {display: flex;align-items: stretch;justify-content: center;background-color: white;position: relative;}#sk-container-id-2 div.sk-item::before, #sk-container-id-2 div.sk-parallel-item::before {content: \"\";position: absolute;border-left: 1px solid gray;box-sizing: border-box;top: 0;bottom: 0;left: 50%;z-index: -1;}#sk-container-id-2 div.sk-parallel-item {display: flex;flex-direction: column;z-index: 1;position: relative;background-color: white;}#sk-container-id-2 div.sk-parallel-item:first-child::after {align-self: flex-end;width: 50%;}#sk-container-id-2 div.sk-parallel-item:last-child::after {align-self: flex-start;width: 50%;}#sk-container-id-2 div.sk-parallel-item:only-child::after {width: 0;}#sk-container-id-2 div.sk-dashed-wrapped {border: 1px dashed gray;margin: 0 0.4em 0.5em 0.4em;box-sizing: border-box;padding-bottom: 0.4em;background-color: white;}#sk-container-id-2 div.sk-label label {font-family: monospace;font-weight: bold;display: inline-block;line-height: 1.2em;}#sk-container-id-2 div.sk-label-container {text-align: center;}#sk-container-id-2 div.sk-container {/* jupyter's `normalize.less` sets `[hidden] { display: none; }` but bootstrap.min.css set `[hidden] { display: none !important; }` so we also need the `!important` here to be able to override the default hidden behavior on the sphinx rendered scikit-learn.org. See: https://github.com/scikit-learn/scikit-learn/issues/21755 */display: inline-block !important;position: relative;}#sk-container-id-2 div.sk-text-repr-fallback {display: none;}</style><div id=\"sk-container-id-2\" class=\"sk-top-container\"><div class=\"sk-text-repr-fallback\"><pre>RandomForestClassifier()</pre><b>In a Jupyter environment, please rerun this cell to show the HTML representation or trust the notebook. <br />On GitHub, the HTML representation is unable to render, please try loading this page with nbviewer.org.</b></div><div class=\"sk-container\" hidden><div class=\"sk-item\"><div class=\"sk-estimator sk-toggleable\"><input class=\"sk-toggleable__control sk-hidden--visually\" id=\"sk-estimator-id-6\" type=\"checkbox\" checked><label for=\"sk-estimator-id-6\" class=\"sk-toggleable__label sk-toggleable__label-arrow\">RandomForestClassifier</label><div class=\"sk-toggleable__content\"><pre>RandomForestClassifier()</pre></div></div></div></div></div>"
      ],
      "text/plain": [
       "RandomForestClassifier()"
      ]
     },
     "execution_count": 30,
     "metadata": {},
     "output_type": "execute_result"
    }
   ],
   "source": [
    "from sklearn.ensemble import RandomForestClassifier\n",
    "\n",
    "rf = RandomForestClassifier()\n",
    "rf.fit(X_train_transformed, y_train)"
   ]
  },
  {
   "cell_type": "code",
   "execution_count": 31,
   "id": "58968b53",
   "metadata": {
    "papermill": {
     "duration": 0.049816,
     "end_time": "2023-10-28T18:42:56.736892",
     "exception": false,
     "start_time": "2023-10-28T18:42:56.687076",
     "status": "completed"
    },
    "tags": []
   },
   "outputs": [],
   "source": [
    "predictions = rf.predict(X_test_transformed)"
   ]
  },
  {
   "cell_type": "code",
   "execution_count": 32,
   "id": "f03c6cbf",
   "metadata": {
    "papermill": {
     "duration": 0.043067,
     "end_time": "2023-10-28T18:42:56.803004",
     "exception": false,
     "start_time": "2023-10-28T18:42:56.759937",
     "status": "completed"
    },
    "tags": []
   },
   "outputs": [
    {
     "name": "stdout",
     "output_type": "stream",
     "text": [
      "              precision    recall  f1-score   support\n",
      "\n",
      "           0       0.98      0.95      0.97        65\n",
      "           1       0.96      0.99      0.97        75\n",
      "\n",
      "    accuracy                           0.97       140\n",
      "   macro avg       0.97      0.97      0.97       140\n",
      "weighted avg       0.97      0.97      0.97       140\n",
      "\n"
     ]
    }
   ],
   "source": [
    "from sklearn.metrics import classification_report\n",
    "\n",
    "print(classification_report(y_test, predictions))"
   ]
  },
  {
   "cell_type": "code",
   "execution_count": 33,
   "id": "f25bfa7e",
   "metadata": {
    "papermill": {
     "duration": 0.032499,
     "end_time": "2023-10-28T18:42:56.858556",
     "exception": false,
     "start_time": "2023-10-28T18:42:56.826057",
     "status": "completed"
    },
    "tags": []
   },
   "outputs": [],
   "source": [
    "import joblib"
   ]
  },
  {
   "cell_type": "code",
   "execution_count": 34,
   "id": "4df1e44d",
   "metadata": {
    "papermill": {
     "duration": 0.116855,
     "end_time": "2023-10-28T18:42:56.998763",
     "exception": false,
     "start_time": "2023-10-28T18:42:56.881908",
     "status": "completed"
    },
    "tags": []
   },
   "outputs": [
    {
     "data": {
      "text/plain": [
       "['amant_ass.pkl']"
      ]
     },
     "execution_count": 34,
     "metadata": {},
     "output_type": "execute_result"
    }
   ],
   "source": [
    "joblib.dump(rf, \"amant_ass.pkl\")"
   ]
  },
  {
   "cell_type": "code",
   "execution_count": 35,
   "id": "8c6fa658",
   "metadata": {
    "papermill": {
     "duration": 0.037337,
     "end_time": "2023-10-28T18:42:57.060412",
     "exception": false,
     "start_time": "2023-10-28T18:42:57.023075",
     "status": "completed"
    },
    "tags": []
   },
   "outputs": [
    {
     "data": {
      "text/plain": [
       "['processor.pkl']"
      ]
     },
     "execution_count": 35,
     "metadata": {},
     "output_type": "execute_result"
    }
   ],
   "source": [
    "joblib.dump(preprocessor, \"processor.pkl\")"
   ]
  },
  {
   "cell_type": "code",
   "execution_count": null,
   "id": "28ca1e62",
   "metadata": {
    "papermill": {
     "duration": 0.022694,
     "end_time": "2023-10-28T18:42:57.106563",
     "exception": false,
     "start_time": "2023-10-28T18:42:57.083869",
     "status": "completed"
    },
    "tags": []
   },
   "outputs": [],
   "source": []
  }
 ],
 "metadata": {
  "kernelspec": {
   "display_name": "Python 3 (ipykernel)",
   "language": "python",
   "name": "python3"
  },
  "language_info": {
   "codemirror_mode": {
    "name": "ipython",
    "version": 3
   },
   "file_extension": ".py",
   "mimetype": "text/x-python",
   "name": "python",
   "nbconvert_exporter": "python",
   "pygments_lexer": "ipython3",
   "version": "3.11.7"
  },
  "papermill": {
   "default_parameters": {},
   "duration": 22.070051,
   "end_time": "2023-10-28T18:42:58.152533",
   "environment_variables": {},
   "exception": null,
   "input_path": "__notebook__.ipynb",
   "output_path": "__notebook__.ipynb",
   "parameters": {},
   "start_time": "2023-10-28T18:42:36.082482",
   "version": "2.4.0"
  }
 },
 "nbformat": 4,
 "nbformat_minor": 5
}
